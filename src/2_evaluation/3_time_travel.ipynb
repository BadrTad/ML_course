{
  "cells": [
    {
      "cell_type": "markdown",
      "metadata": {
        "id": "gKaVsx8xvdn4"
      },
      "source": [
        "# Historical Predictions\n",
        "This notebook contains the code for the Historical Predictions."
      ]
    },
    {
      "cell_type": "code",
      "source": [
        "!pip install world-bank-data==0.1.3"
      ],
      "metadata": {
        "id": "YmDjUT7WytKP"
      },
      "execution_count": null,
      "outputs": []
    },
    {
      "cell_type": "code",
      "source": [
        "from google.colab import drive\n",
        "drive.mount('/content/drive')"
      ],
      "metadata": {
        "id": "spptemlCyxib",
        "outputId": "6ddd349c-42f4-41b6-e7ad-c8a8a95bc148",
        "colab": {
          "base_uri": "https://localhost:8080/"
        }
      },
      "execution_count": 2,
      "outputs": [
        {
          "output_type": "stream",
          "name": "stdout",
          "text": [
            "Mounted at /content/drive\n"
          ]
        }
      ]
    },
    {
      "cell_type": "code",
      "source": [
        "import sys\n",
        "sys.path.insert(0, '/content/drive/MyDrive/')"
      ],
      "metadata": {
        "id": "8w-NJeALy5Fj"
      },
      "execution_count": 20,
      "outputs": []
    },
    {
      "cell_type": "code",
      "source": [
        "%load_ext autoreload\n",
        "%autoreload 2\n",
        "%matplotlib inline"
      ],
      "metadata": {
        "id": "QCUzXx1YzWwr",
        "outputId": "18892c83-6565-440d-f19a-732686559675",
        "colab": {
          "base_uri": "https://localhost:8080/"
        }
      },
      "execution_count": 18,
      "outputs": [
        {
          "output_type": "stream",
          "name": "stdout",
          "text": [
            "The autoreload extension is already loaded. To reload it, use:\n",
            "  %reload_ext autoreload\n"
          ]
        }
      ]
    },
    {
      "cell_type": "code",
      "execution_count": 21,
      "metadata": {
        "id": "fhgvsR52vdoC"
      },
      "outputs": [],
      "source": [
        "from lib import estimator_util as eu\n",
        "from sklearn.model_selection import LeaveOneOut\n",
        "from sklearn.preprocessing import StandardScaler\n",
        "import matplotlib.pyplot as plt\n",
        "import numpy as np\n",
        "import pandas as pd\n",
        "import seaborn as sns\n",
        "import string"
      ]
    },
    {
      "cell_type": "code",
      "source": [
        "DATA_PATH = 'drive/MyDrive/data/'\n",
        "lsms_path = f'{DATA_PATH}/processed/_all_real.csv'\n",
        "cnn_weights_path = f'{DATA_PATH}/weights/weights_all_countries.csv'\n",
        "FIGS_PATH = 'drive/MyDrive/figs'"
      ],
      "metadata": {
        "id": "3a0Rlf9dz7Wy"
      },
      "execution_count": 22,
      "outputs": []
    },
    {
      "cell_type": "code",
      "execution_count": 23,
      "metadata": {
        "id": "-b6UbFnYvdoD"
      },
      "outputs": [],
      "source": [
        "sns.set_theme()"
      ]
    },
    {
      "cell_type": "code",
      "execution_count": 24,
      "metadata": {
        "id": "9BUJeyJtvdoD"
      },
      "outputs": [],
      "source": [
        "complete_df, all_cols = eu.get_data(lsms_path, cnn_weights_path, DATA_PATH)"
      ]
    },
    {
      "cell_type": "markdown",
      "metadata": {
        "id": "NBKxg9PYvdoE"
      },
      "source": [
        "## All Countries\n",
        "Historical future and past predictions for all countries."
      ]
    },
    {
      "cell_type": "code",
      "execution_count": 25,
      "metadata": {
        "id": "KOhjobQhvdoF"
      },
      "outputs": [],
      "source": [
        "def all_year_run(complete_df):\n",
        "    countries = complete_df.groupby([\"country\"]).groups.keys()\n",
        "    base_year = []\n",
        "    year_ = []\n",
        "    r2 = []\n",
        "    country_ = []\n",
        "    for country in countries:\n",
        "        years = complete_df.loc[complete_df[\"country\"] == country].groupby([\"year\"]).groups.keys()\n",
        "        for year in years:\n",
        "            for x_year in years:\n",
        "                X_base, y_base = eu.get_features(complete_df, [country], [year], all_cols)\n",
        "                if year == x_year:\n",
        "                    r, _, m = eu.run_ridge(X_base, y_base)\n",
        "                    country_.append(country)\n",
        "                    base_year.append(year)\n",
        "                    year_.append(x_year)\n",
        "                    r2.append(r)\n",
        "                    continue\n",
        "                infl = eu.get_inflation_perf(country, year, x_year)\n",
        "                X, y = eu.get_features(complete_df, [country], [x_year], all_cols, infl=infl)\n",
        "                n = len(X_base)\n",
        "                X = StandardScaler().fit_transform(X)\n",
        "                r, y_hest, m = eu.run_ridge_out(X_base, y_base, X, y, alpha=10000)\n",
        "                country_.append(country)\n",
        "                base_year.append(year)\n",
        "                year_.append(x_year)\n",
        "                r2.append(r)\n",
        "    return pd.DataFrame.from_dict({\"Country\": country_,\"Train Year\": base_year, \"Eval Year\": year_, \"r2\": r2})\n",
        "        "
      ]
    },
    {
      "cell_type": "code",
      "execution_count": 26,
      "metadata": {
        "id": "Q02jJ_GjvdoH",
        "outputId": "cb0c905b-6fe2-45d9-eda9-83dbaab0b129",
        "colab": {
          "base_uri": "https://localhost:8080/",
          "height": 1000
        }
      },
      "outputs": [
        {
          "output_type": "execute_result",
          "data": {
            "text/plain": [
              "   Country  Train Year  Eval Year        r2\n",
              "0      ETH        2013       2013  0.164213\n",
              "1      ETH        2013       2015  0.137548\n",
              "2      ETH        2013       2018  0.161149\n",
              "3      ETH        2015       2013  0.113945\n",
              "4      ETH        2015       2015  0.184198\n",
              "5      ETH        2015       2018  0.235440\n",
              "6      ETH        2018       2013  0.085038\n",
              "7      ETH        2018       2015  0.140609\n",
              "8      ETH        2018       2018  0.291316\n",
              "9      MLI        2014       2014  0.180572\n",
              "10     MLI        2014       2018  0.344992\n",
              "11     MLI        2018       2014  0.104233\n",
              "12     MLI        2018       2018  0.561980\n",
              "13      MW        2016       2016  0.535613\n",
              "14      MW        2016       2019  0.425598\n",
              "15      MW        2019       2016  0.461419\n",
              "16      MW        2019       2019  0.505298\n",
              "17     NER        2018       2018  0.614507\n",
              "18      NG        2012       2012  0.116924\n",
              "19      NG        2012       2015  0.080123\n",
              "20      NG        2012       2018  0.123023\n",
              "21      NG        2015       2012  0.054130\n",
              "22      NG        2015       2015  0.346446\n",
              "23      NG        2015       2018  0.397005\n",
              "24      NG        2018       2012  0.041277\n",
              "25      NG        2018       2015  0.319308\n",
              "26      NG        2018       2018  0.479212\n",
              "27     TZA        2012       2012  0.241865\n",
              "28     TZA        2012       2014  0.223646\n",
              "29     TZA        2014       2012  0.136852\n",
              "30     TZA        2014       2014  0.451576"
            ],
            "text/html": [
              "\n",
              "  <div id=\"df-d672209c-2a9d-41e3-a401-1008652edd84\">\n",
              "    <div class=\"colab-df-container\">\n",
              "      <div>\n",
              "<style scoped>\n",
              "    .dataframe tbody tr th:only-of-type {\n",
              "        vertical-align: middle;\n",
              "    }\n",
              "\n",
              "    .dataframe tbody tr th {\n",
              "        vertical-align: top;\n",
              "    }\n",
              "\n",
              "    .dataframe thead th {\n",
              "        text-align: right;\n",
              "    }\n",
              "</style>\n",
              "<table border=\"1\" class=\"dataframe\">\n",
              "  <thead>\n",
              "    <tr style=\"text-align: right;\">\n",
              "      <th></th>\n",
              "      <th>Country</th>\n",
              "      <th>Train Year</th>\n",
              "      <th>Eval Year</th>\n",
              "      <th>r2</th>\n",
              "    </tr>\n",
              "  </thead>\n",
              "  <tbody>\n",
              "    <tr>\n",
              "      <th>0</th>\n",
              "      <td>ETH</td>\n",
              "      <td>2013</td>\n",
              "      <td>2013</td>\n",
              "      <td>0.164213</td>\n",
              "    </tr>\n",
              "    <tr>\n",
              "      <th>1</th>\n",
              "      <td>ETH</td>\n",
              "      <td>2013</td>\n",
              "      <td>2015</td>\n",
              "      <td>0.137548</td>\n",
              "    </tr>\n",
              "    <tr>\n",
              "      <th>2</th>\n",
              "      <td>ETH</td>\n",
              "      <td>2013</td>\n",
              "      <td>2018</td>\n",
              "      <td>0.161149</td>\n",
              "    </tr>\n",
              "    <tr>\n",
              "      <th>3</th>\n",
              "      <td>ETH</td>\n",
              "      <td>2015</td>\n",
              "      <td>2013</td>\n",
              "      <td>0.113945</td>\n",
              "    </tr>\n",
              "    <tr>\n",
              "      <th>4</th>\n",
              "      <td>ETH</td>\n",
              "      <td>2015</td>\n",
              "      <td>2015</td>\n",
              "      <td>0.184198</td>\n",
              "    </tr>\n",
              "    <tr>\n",
              "      <th>5</th>\n",
              "      <td>ETH</td>\n",
              "      <td>2015</td>\n",
              "      <td>2018</td>\n",
              "      <td>0.235440</td>\n",
              "    </tr>\n",
              "    <tr>\n",
              "      <th>6</th>\n",
              "      <td>ETH</td>\n",
              "      <td>2018</td>\n",
              "      <td>2013</td>\n",
              "      <td>0.085038</td>\n",
              "    </tr>\n",
              "    <tr>\n",
              "      <th>7</th>\n",
              "      <td>ETH</td>\n",
              "      <td>2018</td>\n",
              "      <td>2015</td>\n",
              "      <td>0.140609</td>\n",
              "    </tr>\n",
              "    <tr>\n",
              "      <th>8</th>\n",
              "      <td>ETH</td>\n",
              "      <td>2018</td>\n",
              "      <td>2018</td>\n",
              "      <td>0.291316</td>\n",
              "    </tr>\n",
              "    <tr>\n",
              "      <th>9</th>\n",
              "      <td>MLI</td>\n",
              "      <td>2014</td>\n",
              "      <td>2014</td>\n",
              "      <td>0.180572</td>\n",
              "    </tr>\n",
              "    <tr>\n",
              "      <th>10</th>\n",
              "      <td>MLI</td>\n",
              "      <td>2014</td>\n",
              "      <td>2018</td>\n",
              "      <td>0.344992</td>\n",
              "    </tr>\n",
              "    <tr>\n",
              "      <th>11</th>\n",
              "      <td>MLI</td>\n",
              "      <td>2018</td>\n",
              "      <td>2014</td>\n",
              "      <td>0.104233</td>\n",
              "    </tr>\n",
              "    <tr>\n",
              "      <th>12</th>\n",
              "      <td>MLI</td>\n",
              "      <td>2018</td>\n",
              "      <td>2018</td>\n",
              "      <td>0.561980</td>\n",
              "    </tr>\n",
              "    <tr>\n",
              "      <th>13</th>\n",
              "      <td>MW</td>\n",
              "      <td>2016</td>\n",
              "      <td>2016</td>\n",
              "      <td>0.535613</td>\n",
              "    </tr>\n",
              "    <tr>\n",
              "      <th>14</th>\n",
              "      <td>MW</td>\n",
              "      <td>2016</td>\n",
              "      <td>2019</td>\n",
              "      <td>0.425598</td>\n",
              "    </tr>\n",
              "    <tr>\n",
              "      <th>15</th>\n",
              "      <td>MW</td>\n",
              "      <td>2019</td>\n",
              "      <td>2016</td>\n",
              "      <td>0.461419</td>\n",
              "    </tr>\n",
              "    <tr>\n",
              "      <th>16</th>\n",
              "      <td>MW</td>\n",
              "      <td>2019</td>\n",
              "      <td>2019</td>\n",
              "      <td>0.505298</td>\n",
              "    </tr>\n",
              "    <tr>\n",
              "      <th>17</th>\n",
              "      <td>NER</td>\n",
              "      <td>2018</td>\n",
              "      <td>2018</td>\n",
              "      <td>0.614507</td>\n",
              "    </tr>\n",
              "    <tr>\n",
              "      <th>18</th>\n",
              "      <td>NG</td>\n",
              "      <td>2012</td>\n",
              "      <td>2012</td>\n",
              "      <td>0.116924</td>\n",
              "    </tr>\n",
              "    <tr>\n",
              "      <th>19</th>\n",
              "      <td>NG</td>\n",
              "      <td>2012</td>\n",
              "      <td>2015</td>\n",
              "      <td>0.080123</td>\n",
              "    </tr>\n",
              "    <tr>\n",
              "      <th>20</th>\n",
              "      <td>NG</td>\n",
              "      <td>2012</td>\n",
              "      <td>2018</td>\n",
              "      <td>0.123023</td>\n",
              "    </tr>\n",
              "    <tr>\n",
              "      <th>21</th>\n",
              "      <td>NG</td>\n",
              "      <td>2015</td>\n",
              "      <td>2012</td>\n",
              "      <td>0.054130</td>\n",
              "    </tr>\n",
              "    <tr>\n",
              "      <th>22</th>\n",
              "      <td>NG</td>\n",
              "      <td>2015</td>\n",
              "      <td>2015</td>\n",
              "      <td>0.346446</td>\n",
              "    </tr>\n",
              "    <tr>\n",
              "      <th>23</th>\n",
              "      <td>NG</td>\n",
              "      <td>2015</td>\n",
              "      <td>2018</td>\n",
              "      <td>0.397005</td>\n",
              "    </tr>\n",
              "    <tr>\n",
              "      <th>24</th>\n",
              "      <td>NG</td>\n",
              "      <td>2018</td>\n",
              "      <td>2012</td>\n",
              "      <td>0.041277</td>\n",
              "    </tr>\n",
              "    <tr>\n",
              "      <th>25</th>\n",
              "      <td>NG</td>\n",
              "      <td>2018</td>\n",
              "      <td>2015</td>\n",
              "      <td>0.319308</td>\n",
              "    </tr>\n",
              "    <tr>\n",
              "      <th>26</th>\n",
              "      <td>NG</td>\n",
              "      <td>2018</td>\n",
              "      <td>2018</td>\n",
              "      <td>0.479212</td>\n",
              "    </tr>\n",
              "    <tr>\n",
              "      <th>27</th>\n",
              "      <td>TZA</td>\n",
              "      <td>2012</td>\n",
              "      <td>2012</td>\n",
              "      <td>0.241865</td>\n",
              "    </tr>\n",
              "    <tr>\n",
              "      <th>28</th>\n",
              "      <td>TZA</td>\n",
              "      <td>2012</td>\n",
              "      <td>2014</td>\n",
              "      <td>0.223646</td>\n",
              "    </tr>\n",
              "    <tr>\n",
              "      <th>29</th>\n",
              "      <td>TZA</td>\n",
              "      <td>2014</td>\n",
              "      <td>2012</td>\n",
              "      <td>0.136852</td>\n",
              "    </tr>\n",
              "    <tr>\n",
              "      <th>30</th>\n",
              "      <td>TZA</td>\n",
              "      <td>2014</td>\n",
              "      <td>2014</td>\n",
              "      <td>0.451576</td>\n",
              "    </tr>\n",
              "  </tbody>\n",
              "</table>\n",
              "</div>\n",
              "      <button class=\"colab-df-convert\" onclick=\"convertToInteractive('df-d672209c-2a9d-41e3-a401-1008652edd84')\"\n",
              "              title=\"Convert this dataframe to an interactive table.\"\n",
              "              style=\"display:none;\">\n",
              "        \n",
              "  <svg xmlns=\"http://www.w3.org/2000/svg\" height=\"24px\"viewBox=\"0 0 24 24\"\n",
              "       width=\"24px\">\n",
              "    <path d=\"M0 0h24v24H0V0z\" fill=\"none\"/>\n",
              "    <path d=\"M18.56 5.44l.94 2.06.94-2.06 2.06-.94-2.06-.94-.94-2.06-.94 2.06-2.06.94zm-11 1L8.5 8.5l.94-2.06 2.06-.94-2.06-.94L8.5 2.5l-.94 2.06-2.06.94zm10 10l.94 2.06.94-2.06 2.06-.94-2.06-.94-.94-2.06-.94 2.06-2.06.94z\"/><path d=\"M17.41 7.96l-1.37-1.37c-.4-.4-.92-.59-1.43-.59-.52 0-1.04.2-1.43.59L10.3 9.45l-7.72 7.72c-.78.78-.78 2.05 0 2.83L4 21.41c.39.39.9.59 1.41.59.51 0 1.02-.2 1.41-.59l7.78-7.78 2.81-2.81c.8-.78.8-2.07 0-2.86zM5.41 20L4 18.59l7.72-7.72 1.47 1.35L5.41 20z\"/>\n",
              "  </svg>\n",
              "      </button>\n",
              "      \n",
              "  <style>\n",
              "    .colab-df-container {\n",
              "      display:flex;\n",
              "      flex-wrap:wrap;\n",
              "      gap: 12px;\n",
              "    }\n",
              "\n",
              "    .colab-df-convert {\n",
              "      background-color: #E8F0FE;\n",
              "      border: none;\n",
              "      border-radius: 50%;\n",
              "      cursor: pointer;\n",
              "      display: none;\n",
              "      fill: #1967D2;\n",
              "      height: 32px;\n",
              "      padding: 0 0 0 0;\n",
              "      width: 32px;\n",
              "    }\n",
              "\n",
              "    .colab-df-convert:hover {\n",
              "      background-color: #E2EBFA;\n",
              "      box-shadow: 0px 1px 2px rgba(60, 64, 67, 0.3), 0px 1px 3px 1px rgba(60, 64, 67, 0.15);\n",
              "      fill: #174EA6;\n",
              "    }\n",
              "\n",
              "    [theme=dark] .colab-df-convert {\n",
              "      background-color: #3B4455;\n",
              "      fill: #D2E3FC;\n",
              "    }\n",
              "\n",
              "    [theme=dark] .colab-df-convert:hover {\n",
              "      background-color: #434B5C;\n",
              "      box-shadow: 0px 1px 3px 1px rgba(0, 0, 0, 0.15);\n",
              "      filter: drop-shadow(0px 1px 2px rgba(0, 0, 0, 0.3));\n",
              "      fill: #FFFFFF;\n",
              "    }\n",
              "  </style>\n",
              "\n",
              "      <script>\n",
              "        const buttonEl =\n",
              "          document.querySelector('#df-d672209c-2a9d-41e3-a401-1008652edd84 button.colab-df-convert');\n",
              "        buttonEl.style.display =\n",
              "          google.colab.kernel.accessAllowed ? 'block' : 'none';\n",
              "\n",
              "        async function convertToInteractive(key) {\n",
              "          const element = document.querySelector('#df-d672209c-2a9d-41e3-a401-1008652edd84');\n",
              "          const dataTable =\n",
              "            await google.colab.kernel.invokeFunction('convertToInteractive',\n",
              "                                                     [key], {});\n",
              "          if (!dataTable) return;\n",
              "\n",
              "          const docLinkHtml = 'Like what you see? Visit the ' +\n",
              "            '<a target=\"_blank\" href=https://colab.research.google.com/notebooks/data_table.ipynb>data table notebook</a>'\n",
              "            + ' to learn more about interactive tables.';\n",
              "          element.innerHTML = '';\n",
              "          dataTable['output_type'] = 'display_data';\n",
              "          await google.colab.output.renderOutput(dataTable, element);\n",
              "          const docLink = document.createElement('div');\n",
              "          docLink.innerHTML = docLinkHtml;\n",
              "          element.appendChild(docLink);\n",
              "        }\n",
              "      </script>\n",
              "    </div>\n",
              "  </div>\n",
              "  "
            ]
          },
          "metadata": {},
          "execution_count": 26
        }
      ],
      "source": [
        "all_year_run(complete_df)"
      ]
    },
    {
      "cell_type": "markdown",
      "metadata": {
        "id": "QH3KD9aFvdoJ"
      },
      "source": [
        "## Leave-one-out"
      ]
    },
    {
      "cell_type": "code",
      "execution_count": 30,
      "metadata": {
        "id": "Q9wyTEOMvdoK",
        "outputId": "6e037582-73d2-4ac8-a008-e5db0248c4d7",
        "colab": {
          "base_uri": "https://localhost:8080/"
        }
      },
      "outputs": [
        {
          "output_type": "stream",
          "name": "stdout",
          "text": [
            "======ETH=====\n",
            "[2013, 2015, 2018]\n",
            "Predicting: 2013\n",
            "0.14201959440982584\n",
            "Predicting: 2015\n",
            "0.32520120200429925\n",
            "Predicting: 2018\n",
            "0.4410773312948293\n",
            "======NG=====\n",
            "[2012, 2015, 2018]\n",
            "Predicting: 2012\n",
            "0.05947768735228607\n",
            "Predicting: 2015\n",
            "0.4445325392796965\n",
            "Predicting: 2018\n",
            "0.5740936105136987\n",
            "======MW=====\n",
            "[2016, 2019]\n",
            "Predicting: 2016\n",
            "0.473428556552856\n",
            "Predicting: 2019\n",
            "0.6059759966938719\n",
            "======MLI=====\n",
            "[2014, 2018]\n",
            "Predicting: 2014\n",
            "0.12173131716201475\n",
            "Predicting: 2018\n",
            "0.6072855396164804\n"
          ]
        }
      ],
      "source": [
        "countries = [\"ETH\", \"NG\", \"MW\", \"MLI\"] # Provide countires with more than 2-years\n",
        "for country in countries:\n",
        "    print(f\"======{country}=====\")\n",
        "    years = list(complete_df.loc[complete_df[\"country\"] == country].groupby([\"year\"]).groups.keys())\n",
        "    print(years)\n",
        "    loo = LeaveOneOut()\n",
        "    X_ = None\n",
        "    y_ = None\n",
        "    for year, x_year in loo.split(years):\n",
        "        for y in year:\n",
        "            infl = eu.get_inflation_perf(country, 2010, years[y])\n",
        "            X_base, y_base = eu.get_features(complete_df, [country], [years[y]], all_cols, infl)\n",
        "            \n",
        "            if X_ is None:\n",
        "                X_ = X_base\n",
        "            else:\n",
        "                X_ = np.vstack((X_, X_base))\n",
        "            \n",
        "            if y_ is None:\n",
        "                y_ = y_base\n",
        "            else:\n",
        "                y_ = np.append(y_, y_base)\n",
        "\n",
        "        infl = eu.get_inflation_perf(country, 2010, years[x_year[0]])\n",
        "        X, y = eu.get_features(complete_df, [country], [years[x_year[0]]], all_cols, infl=infl)\n",
        "        X_ = StandardScaler().fit_transform(X_)\n",
        "        X = StandardScaler().fit_transform(X)\n",
        "        r, y_hest, m = eu.run_ridge_out(X_, y_, X, y, alpha=1000)\n",
        "        print(f\"Predicting: {years[x_year[0]]}\")\n",
        "        print(r)"
      ]
    },
    {
      "cell_type": "markdown",
      "metadata": {
        "id": "U5_VCd1dvdoL"
      },
      "source": [
        "## Pooled Dataset\n",
        "Predictions for whole dataset. Consumption is scaled to base year 2010."
      ]
    },
    {
      "cell_type": "code",
      "execution_count": 34,
      "metadata": {
        "id": "RElO89o5vdoL"
      },
      "outputs": [],
      "source": [
        "countries = [[\"NG\"], [\"ETH\"] ,[\"TZA\"], [\"MW\"], [\"MLI\"], [\"NER\"], [\"NG\", \"ETH\", \"TZA\", \"MW\", \"MLI\", \"NER\"]]\n",
        "arr = np.zeros((len(countries), len(countries)))\n",
        "for i, country in enumerate(countries):\n",
        "    X, y = eu.get_features_allyears(complete_df, country, all_cols)\n",
        "    for j, out_country in enumerate(countries):\n",
        "        X_out, y_out = eu.get_features_allyears(complete_df,out_country, all_cols)\n",
        "        r, _, _= eu.run_ridge_out(X, y, X_out, y_out)\n",
        "        arr[i,j] = r"
      ]
    },
    {
      "cell_type": "code",
      "execution_count": 36,
      "metadata": {
        "id": "XVNLfaXHvdoM",
        "outputId": "7c94e751-0b24-448a-df24-f5c23b336fe3",
        "colab": {
          "base_uri": "https://localhost:8080/",
          "height": 501
        }
      },
      "outputs": [
        {
          "output_type": "display_data",
          "data": {
            "text/plain": [
              "<Figure size 720x504 with 2 Axes>"
            ],
            "image/png": "[encoded data removed]"
          },
          "metadata": {}
        }
      ],
      "source": [
        "countries = [\"Nigeria\", \"Ethiopia\" ,\"Tanzania\", \"Malawi\", \"Mali\", \"Niger\", \"Pooled\"]\n",
        "df_cm = pd.DataFrame(arr, index = countries, columns = countries)\n",
        "plt.figure(figsize = (10,7))\n",
        "sns.heatmap(df_cm, annot=True, cbar_kws={'label': r'$r^2$'})\n",
        "plt.xlabel(\"Country trained on\")\n",
        "plt.ylabel(\"Country evaluated on\")\n",
        "ax = plt.gca()\n",
        "plt.text(-0.1, 1.1, string.ascii_uppercase[0], size=20, weight='bold', transform=ax.transAxes)\n",
        "plt.savefig(f\"{FIGS_PATH}/cross_country_pooled_timetravel.pdf\", dpi=600, bbox_inches=\"tight\")"
      ]
    },
    {
      "cell_type": "code",
      "execution_count": 37,
      "metadata": {
        "id": "xTo0yDUdvdoM"
      },
      "outputs": [],
      "source": [
        "country = [\"NG\", \"ETH\", \"TZA\", \"MW\", \"MLI\", \"NER\"]\n",
        "X, y = eu.get_features_allyears(complete_df, country, all_cols)\n",
        "r, _, m = eu.run_ridge(X, y)"
      ]
    },
    {
      "cell_type": "code",
      "execution_count": 41,
      "metadata": {
        "id": "_ryJ5GQkvdoN",
        "outputId": "ba5adca7-6551-4e88-a215-59c8486f7e9b",
        "colab": {
          "base_uri": "https://localhost:8080/",
          "height": 562
        }
      },
      "outputs": [
        {
          "output_type": "display_data",
          "data": {
            "text/plain": [
              "<Figure size 360x576 with 1 Axes>"
            ],
            "image/png": "[encoded data removed]"
          },
          "metadata": {}
        }
      ],
      "source": [
        "y_hest = m.predict(X)\n",
        "eu.plot_predictions(y, y_hest, r, \"Pooled\", \"Timetravel\", 1)\n",
        "plt.savefig(f\"{FIGS_PATH}/pooled_timetravel.pdf\", dpi=600, bbox_inches=\"tight\")"
      ]
    }
  ],
  "metadata": {
    "kernelspec": {
      "display_name": "Python 3.9.12 64-bit",
      "language": "python",
      "name": "python3"
    },
    "language_info": {
      "codemirror_mode": {
        "name": "ipython",
        "version": 3
      },
      "file_extension": ".py",
      "mimetype": "text/x-python",
      "name": "python",
      "nbconvert_exporter": "python",
      "pygments_lexer": "ipython3",
      "version": "3.9.12"
    },
    "orig_nbformat": 4,
    "vscode": {
      "interpreter": {
        "hash": "b0fa6594d8f4cbf19f97940f81e996739fb7646882a419484c72d19e05852a7e"
      }
    },
    "colab": {
      "provenance": []
    }
  },
  "nbformat": 4,
  "nbformat_minor": 0
}